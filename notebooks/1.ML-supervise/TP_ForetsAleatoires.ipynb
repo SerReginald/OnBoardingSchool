{
  "cells": [
    {
      "cell_type": "markdown",
      "id": "58b05612",
      "metadata": {
        "id": "58b05612"
      },
      "source": [
        "#Forêts aléatoires\n",
        "Dans ce TP, nous utiliserons les méthodes d'*ensemble learning* (*bagging* et *boosting*)\n",
        "\n"
      ]
    },
    {
      "cell_type": "markdown",
      "id": "c96139bd",
      "metadata": {
        "id": "c96139bd"
      },
      "source": [
        "## Ensemble learning\n",
        "\n",
        "L'idée est de combiner plusieurs modèles pour en faire un ensemble plus performants.\n",
        "\n",
        "En général, on distingue deux familles de méthodes de ce type :\n",
        "\n",
        "1. Méthodes par moyennage (*bagging*, forêts aléatoires) où le principe est de faire la moyenne de plusieurs prédictions .  \n",
        "1. Méthodes adaptatives (*boosting*) où les paramètres sont itérativement adaptés pour produire un meilleur mélange.  \n",
        "\n",
        "\n",
        "Dans la suite nous explorerons chacune de ces classes d’algorithme."
      ]
    },
    {
      "cell_type": "markdown",
      "id": "d9f10d61",
      "metadata": {
        "id": "d9f10d61"
      },
      "source": [
        "## *Bagging*\n",
        "\n",
        "Les méthodes de type *bagging* construisent plusieurs instances d’un estimateur, calculées sur des échantillons aléatoires tirés de la base d’apprentissage. On réalise ensuite la moyenne des estimations pour réduire la variance de l'estimateur. \n",
        "Dans Scikit-learn, les méthodes de *bagging* sont implémentées via la classe `BaggingClassifier` et `BaggingRegressor`. Les constructeurs prennent en paramètres un estimateur de base et la stratégie de sélection des points et des *features* :\n",
        "\n",
        "> - `base_estimator` : optionnel (default=None). Si None alors l’estimateur est un arbre de décision.  \n",
        "- `max_samples` : la taille de l’échantillon aléatoire tiré de la base d’apprentissage.  \n",
        "- `max_features` : le nombre de *features* tirés aléatoirement.  \n",
        "- `bootstrap` : boolean, optionnel (default=True). Tirage des points avec remise ou non.  \n",
        "- `bootstrap_features` : boolean, optionnel (default=False). Tirage des *features* avec remise ou non.  \n",
        "- `oob_score` : boolean. Estimer ou non l’erreur de généralisation OOB (*Out of Bag*).  \n",
        "\n",
        "Le code suivant construit un ensemble des classifieurs. Chaque classifieur de base est un `KNeighborsClassifier` (c’est-à-dire k-plus-proches-voisins), chacun utilisant au maximum 50% des points pour son apprentissage et la moitié des *features* :"
      ]
    },
    {
      "cell_type": "code",
      "execution_count": null,
      "id": "a0a35190",
      "metadata": {
        "hide-output": false,
        "id": "a0a35190"
      },
      "outputs": [],
      "source": [
        "from sklearn.ensemble import BaggingClassifier\n",
        "from sklearn.neighbors import KNeighborsClassifier\n",
        "bagging = BaggingClassifier(KNeighborsClassifier(), max_samples=0.5, max_features=0.5)"
      ]
    },
    {
      "cell_type": "markdown",
      "id": "b553065e",
      "metadata": {
        "id": "b553065e"
      },
      "source": [
        "Dans cet exemple nous allons utiliser la base de données `digits`, qui contient 10 classes (images des chiffres en écriture manuscrite). Il y a 1797 éléments, chaque élément a 64 attributs (8 pixels par 8)."
      ]
    },
    {
      "cell_type": "code",
      "execution_count": null,
      "id": "c13efd68",
      "metadata": {
        "hide-output": false,
        "colab": {
          "base_uri": "https://localhost:8080/",
          "height": 105
        },
        "id": "c13efd68",
        "outputId": "7515af52-9eb7-4acd-a5a5-795e5bda5a73"
      },
      "outputs": [
        {
          "output_type": "display_data",
          "data": {
            "text/plain": [
              "<Figure size 640x480 with 10 Axes>"
            ],
            "image/png": "[encoded data removed]"
          },
          "metadata": {}
        }
      ],
      "source": [
        "from sklearn.datasets import load_digits\n",
        "digits = load_digits()\n",
        "\n",
        "# Affichage des 10 premières images\n",
        "import matplotlib.pyplot as plt\n",
        "fig = plt.figure()\n",
        "for i, digit in enumerate(digits.images[:10]):\n",
        "    fig.add_subplot(1,10,i+1)\n",
        "    plt.imshow(digit)\n",
        "plt.show()"
      ]
    },
    {
      "cell_type": "markdown",
      "id": "b868c611",
      "metadata": {
        "id": "b868c611"
      },
      "source": [
        "Pour établir des performances de référence, nous allons implémenter un arbre de décision pour la classification dans un premier temps sans découper la base d'apprentissage."
      ]
    },
    {
      "cell_type": "code",
      "execution_count": null,
      "id": "6a53b7c1",
      "metadata": {
        "hide-output": false,
        "colab": {
          "base_uri": "https://localhost:8080/"
        },
        "id": "6a53b7c1",
        "outputId": "68121194-1bd9-4138-da63-2ec000e2659e"
      },
      "outputs": [
        {
          "output_type": "stream",
          "name": "stdout",
          "text": [
            "1.0\n"
          ]
        }
      ],
      "source": [
        "# A compléter"
      ]
    },
    {
      "cell_type": "markdown",
      "id": "90ff6775",
      "metadata": {
        "id": "90ff6775"
      },
      "source": [
        "Sur la base d’apprentissage `accuracy = 1` . Découpons à présent la base de données en un jeu d’apprentissage et un jeux de test afin d'étudier la généralisation de l’arbre sur des données différentes de celles d’apprentissage :"
      ]
    },
    {
      "cell_type": "code",
      "execution_count": null,
      "id": "7af68e0f",
      "metadata": {
        "hide-output": false,
        "id": "7af68e0f"
      },
      "outputs": [],
      "source": [
        "# A completer\n",
        "from sklearn.model_selection import train_test_split\n",
        "# 90% des données pour le test, 10% pour l'apprentissage\n"
      ]
    },
    {
      "cell_type": "markdown",
      "id": "d64e9c46",
      "metadata": {
        "id": "d64e9c46"
      },
      "source": [
        "Quelle est la variance de la valeur `accuracy` sur 100 tirages pour la séparation apprentissage/test. Que pouvons-nous conclure ? "
      ]
    },
    {
      "cell_type": "code",
      "execution_count": null,
      "id": "b637f007",
      "metadata": {
        "hide-output": false,
        "id": "b637f007"
      },
      "outputs": [],
      "source": [
        "N = 100\n",
        "accuracies = []\n",
        "for i in range(N):\n",
        "    X_train, X_test, y_train, y_test = train_test_split(X, y, test_size=0.05)\n",
        "    clf = tree.DecisionTreeClassifier()\n",
        "    clf.fit(X_train, y_train)\n",
        "    Z = clf.predict(X_test)\n",
        "    accuracies.append(clf.score(X_test,y_test))\n",
        "    print(accuracies[i])\n",
        "\n",
        "# A compléter"
      ]
    },
    {
      "cell_type": "markdown",
      "id": "07641e50",
      "metadata": {
        "id": "07641e50"
      },
      "source": [
        "Pour comparer, construisons maintenant avec la méthode `BaggingClassifier` un classifieur *bagging* sur nos données, toujours basé sur les `DecisionTreeClassifier` :"
      ]
    },
    {
      "cell_type": "code",
      "execution_count": null,
      "id": "a4d254da",
      "metadata": {
        "hide-output": false,
        "id": "a4d254da"
      },
      "outputs": [],
      "source": [
        "# A compléter"
      ]
    },
    {
      "cell_type": "markdown",
      "id": "9df60e0a",
      "metadata": {
        "id": "9df60e0a"
      },
      "source": [
        "L’apprentissage et l’évaluation de cet ensemble se font de la façon habituelle :"
      ]
    },
    {
      "cell_type": "code",
      "execution_count": null,
      "id": "ef72029b",
      "metadata": {
        "hide-output": false,
        "id": "ef72029b"
      },
      "outputs": [],
      "source": [
        "# A compléter"
      ]
    },
    {
      "cell_type": "markdown",
      "id": "56ffa919",
      "metadata": {
        "id": "56ffa919"
      },
      "source": [
        "Calculer la variance de la valeur `accuracy` sur 100 tirages pour la séparation apprentissage/test. Comparer avec la variance du classifieur de base. Que pouvons-nous conclure ?"
      ]
    },
    {
      "cell_type": "markdown",
      "id": "4a772848",
      "metadata": {
        "id": "4a772848"
      },
      "source": [
        "\n",
        "\n",
        "Construire le graphique `accuracy` vs `n_estimators`. Que constatez-vous ?"
      ]
    },
    {
      "cell_type": "code",
      "execution_count": null,
      "id": "06fc5a6f",
      "metadata": {
        "hide-output": false,
        "colab": {
          "base_uri": "https://localhost:8080/",
          "height": 430
        },
        "id": "06fc5a6f",
        "outputId": "8c488089-91ff-44c6-94bb-ed07d1e92ef4"
      },
      "outputs": [
        {
          "output_type": "display_data",
          "data": {
            "text/plain": [
              "<Figure size 640x480 with 1 Axes>"
            ],
            "image/png": "[encoded data removed]"
          },
          "metadata": {}
        }
      ],
      "source": [
        "N = 30\n",
        "accuracy = []\n",
        "\n",
        "for i in range(N):\n",
        "# A compléter (entrainement avec le classifieur BaggingClassifier)\n",
        "  accuracy.append(clf.score(X_test,y_test))\n",
        "import matplotlib.pyplot as plt\n",
        "plt.plot([10*(i+1) for i in range(N)], accuracy)\n",
        "plt.show()"
      ]
    },
    {
      "cell_type": "markdown",
      "id": "802a7270",
      "metadata": {
        "id": "802a7270"
      },
      "source": [
        "<img src=\"_images/tpforetsfig1.svg\" style=\"width:100%;\">"
      ]
    },
    {
      "cell_type": "markdown",
      "id": "6c17fc05",
      "metadata": {
        "id": "6c17fc05"
      },
      "source": [
        "Faites varier les parametres `max_samples` et `max_features`. Pour quelles valeurs on obtient le meilleur résultat ? On pourra notamment utiliser `GridSearchCV` pour réaliser une recherche systématique."
      ]
    },
    {
      "cell_type": "code",
      "execution_count": null,
      "id": "5267312e",
      "metadata": {
        "hide-output": false,
        "id": "5267312e"
      },
      "outputs": [],
      "source": [
        "digits = load_digits()\n",
        "X, y = digits.data, digits.target\n",
        "X_train, X_test, y_train, y_test = train_test_split(X, y, test_size=0.5)\n",
        "\n",
        "#A completer\n",
        "# importer GridSearchCV\n",
        "pgrid = {\"max_samples\": [0.2, 0.4, 0.6, 0.8],\n",
        "        \"max_features\": [0.2, 0.4, 0.6, 0.8]}\n",
        "#A completer\n",
        "# Faire le fit en utilisant GridSearchCV\n",
        "print(\"Meilleur score : \" + str(grid_search.best_estimator_.score(X_test, y_test)))\n",
        "print(\"max_samples: \" + str(grid_search.best_estimator_.max_samples))\n",
        "print(\"max_features: \" + str(grid_search.best_estimator_.max_features))"
      ]
    },
    {
      "cell_type": "markdown",
      "id": "f0133970",
      "metadata": {
        "id": "f0133970"
      },
      "source": [
        "## Forêts aléatoires\n",
        "\n",
        "L’algorithme des forêts aléatoires propose une optimisation des arbres de décision. Il utilise le même principe que le *bagging*, mais avec une étape supplémentaire de randomisation dans la sélection des attributs des nœuds dans le but de réduire la variance de l’estimateur obtenu. Les deux objets Python qui implémentent les forêts aléatoires sont `RandomForestClassifier` et `RandomForestRegressor`. Les paramètres les plus importants sont :\n",
        "\n",
        "> - `n_estimators` : integer, optional (default=10). Le nombre d’arbres.  \n",
        "- `max_features` : le nombre d’attributs à considérer à chaque split.  \n",
        "- `max_samples` : la taille de l’échantillon aléatoire tiré de la base d’apprentissage.  \n",
        "- `min_samples_leaf` : le nombre minimal d’éléments dans un nœud feuille.  \n",
        "- `oob_score` : boolean. Estimer ou non l’erreur de généralisation OOB (*Out of Bag*).  \n",
        "\n",
        "\n",
        "\n",
        "Par la suite nous allons refaire la classification sur la base Digits en utilisant un classifieur `RandomForestClassifier`. Comme d’habitude, on sépare les données en gardant 10% pour l’apprentissage et 90% pour le test."
      ]
    },
    {
      "cell_type": "code",
      "execution_count": null,
      "id": "da58c524",
      "metadata": {
        "hide-output": false,
        "id": "da58c524"
      },
      "outputs": [],
      "source": [
        "digits = load_digits()\n",
        "X, y = digits.data, digits.target\n",
        "\n",
        "from sklearn.model_selection import train_test_split\n",
        "X_train, X_test, y_train, y_test = train_test_split(X, y, test_size=0.90)"
      ]
    },
    {
      "cell_type": "markdown",
      "id": "74cc0c96",
      "metadata": {
        "id": "74cc0c96"
      },
      "source": [
        "On peut désormais créer et entraîner notre modèle :"
      ]
    },
    {
      "cell_type": "code",
      "execution_count": null,
      "id": "58feec4b",
      "metadata": {
        "hide-output": false,
        "colab": {
          "base_uri": "https://localhost:8080/",
          "height": 75
        },
        "id": "58feec4b",
        "outputId": "ecff1c0c-274c-42ae-ebc4-52faba365a15"
      },
      "outputs": [
        {
          "output_type": "execute_result",
          "data": {
            "text/plain": [
              "RandomForestClassifier(n_estimators=200)"
            ],
            "text/html": [
              "<style>#sk-container-id-1 {color: black;background-color: white;}#sk-container-id-1 pre{padding: 0;}#sk-container-id-1 div.sk-toggleable {background-color: white;}#sk-container-id-1 label.sk-toggleable__label {cursor: pointer;display: block;width: 100%;margin-bottom: 0;padding: 0.3em;box-sizing: border-box;text-align: center;}#sk-container-id-1 label.sk-toggleable__label-arrow:before {content: \"▸\";float: left;margin-right: 0.25em;color: #696969;}#sk-container-id-1 label.sk-toggleable__label-arrow:hover:before {color: black;}#sk-container-id-1 div.sk-estimator:hover label.sk-toggleable__label-arrow:before {color: black;}#sk-container-id-1 div.sk-toggleable__content {max-height: 0;max-width: 0;overflow: hidden;text-align: left;background-color: #f0f8ff;}#sk-container-id-1 div.sk-toggleable__content pre {margin: 0.2em;color: black;border-radius: 0.25em;background-color: #f0f8ff;}#sk-container-id-1 input.sk-toggleable__control:checked~div.sk-toggleable__content {max-height: 200px;max-width: 100%;overflow: auto;}#sk-container-id-1 input.sk-toggleable__control:checked~label.sk-toggleable__label-arrow:before {content: \"▾\";}#sk-container-id-1 div.sk-estimator input.sk-toggleable__control:checked~label.sk-toggleable__label {background-color: #d4ebff;}#sk-container-id-1 div.sk-label input.sk-toggleable__control:checked~label.sk-toggleable__label {background-color: #d4ebff;}#sk-container-id-1 input.sk-hidden--visually {border: 0;clip: rect(1px 1px 1px 1px);clip: rect(1px, 1px, 1px, 1px);height: 1px;margin: -1px;overflow: hidden;padding: 0;position: absolute;width: 1px;}#sk-container-id-1 div.sk-estimator {font-family: monospace;background-color: #f0f8ff;border: 1px dotted black;border-radius: 0.25em;box-sizing: border-box;margin-bottom: 0.5em;}#sk-container-id-1 div.sk-estimator:hover {background-color: #d4ebff;}#sk-container-id-1 div.sk-parallel-item::after {content: \"\";width: 100%;border-bottom: 1px solid gray;flex-grow: 1;}#sk-container-id-1 div.sk-label:hover label.sk-toggleable__label {background-color: #d4ebff;}#sk-container-id-1 div.sk-serial::before {content: \"\";position: absolute;border-left: 1px solid gray;box-sizing: border-box;top: 0;bottom: 0;left: 50%;z-index: 0;}#sk-container-id-1 div.sk-serial {display: flex;flex-direction: column;align-items: center;background-color: white;padding-right: 0.2em;padding-left: 0.2em;position: relative;}#sk-container-id-1 div.sk-item {position: relative;z-index: 1;}#sk-container-id-1 div.sk-parallel {display: flex;align-items: stretch;justify-content: center;background-color: white;position: relative;}#sk-container-id-1 div.sk-item::before, #sk-container-id-1 div.sk-parallel-item::before {content: \"\";position: absolute;border-left: 1px solid gray;box-sizing: border-box;top: 0;bottom: 0;left: 50%;z-index: -1;}#sk-container-id-1 div.sk-parallel-item {display: flex;flex-direction: column;z-index: 1;position: relative;background-color: white;}#sk-container-id-1 div.sk-parallel-item:first-child::after {align-self: flex-end;width: 50%;}#sk-container-id-1 div.sk-parallel-item:last-child::after {align-self: flex-start;width: 50%;}#sk-container-id-1 div.sk-parallel-item:only-child::after {width: 0;}#sk-container-id-1 div.sk-dashed-wrapped {border: 1px dashed gray;margin: 0 0.4em 0.5em 0.4em;box-sizing: border-box;padding-bottom: 0.4em;background-color: white;}#sk-container-id-1 div.sk-label label {font-family: monospace;font-weight: bold;display: inline-block;line-height: 1.2em;}#sk-container-id-1 div.sk-label-container {text-align: center;}#sk-container-id-1 div.sk-container {/* jupyter's `normalize.less` sets `[hidden] { display: none; }` but bootstrap.min.css set `[hidden] { display: none !important; }` so we also need the `!important` here to be able to override the default hidden behavior on the sphinx rendered scikit-learn.org. See: https://github.com/scikit-learn/scikit-learn/issues/21755 */display: inline-block !important;position: relative;}#sk-container-id-1 div.sk-text-repr-fallback {display: none;}</style><div id=\"sk-container-id-1\" class=\"sk-top-container\"><div class=\"sk-text-repr-fallback\"><pre>RandomForestClassifier(n_estimators=200)</pre><b>In a Jupyter environment, please rerun this cell to show the HTML representation or trust the notebook. <br />On GitHub, the HTML representation is unable to render, please try loading this page with nbviewer.org.</b></div><div class=\"sk-container\" hidden><div class=\"sk-item\"><div class=\"sk-estimator sk-toggleable\"><input class=\"sk-toggleable__control sk-hidden--visually\" id=\"sk-estimator-id-1\" type=\"checkbox\" checked><label for=\"sk-estimator-id-1\" class=\"sk-toggleable__label sk-toggleable__label-arrow\">RandomForestClassifier</label><div class=\"sk-toggleable__content\"><pre>RandomForestClassifier(n_estimators=200)</pre></div></div></div></div></div>"
            ]
          },
          "metadata": {},
          "execution_count": 11
        }
      ],
      "source": [
        "from sklearn.ensemble import RandomForestClassifier\n",
        "clf = RandomForestClassifier(n_estimators=200)\n",
        "clf.fit(X_train, y_train)"
      ]
    },
    {
      "cell_type": "markdown",
      "id": "724dde27",
      "metadata": {
        "id": "724dde27"
      },
      "source": [
        "Puis réaliser les prédictions et calculer le score de test :"
      ]
    },
    {
      "cell_type": "code",
      "execution_count": null,
      "id": "4a43fe1b",
      "metadata": {
        "hide-output": false,
        "id": "4a43fe1b"
      },
      "outputs": [],
      "source": [
        "# Compléter"
      ]
    },
    {
      "cell_type": "markdown",
      "id": "02bf1796",
      "metadata": {
        "id": "02bf1796"
      },
      "source": [
        "Comment la valeur de la variable `accuracy` se compare avec le cas *bagging* qui utilise le même nombre d’arbres (200 dans notre cas) ?"
      ]
    },
    {
      "cell_type": "code",
      "execution_count": null,
      "id": "97d2c8a2",
      "metadata": {
        "hide-output": false,
        "id": "97d2c8a2"
      },
      "outputs": [],
      "source": [
        "clf = tree.DecisionTreeClassifier()\n",
        "clf.fit(X_train, y_train)\n",
        "Z = clf.predict(X_test)\n",
        "print(\"Arbre de décision : \" + str(clf.score(X_test,y_test)))\n",
        "\n",
        "clf = BaggingClassifier(tree.DecisionTreeClassifier(), max_samples=0.5, max_features=0.5, n_estimators=200)\n",
        "clf.fit(X_train, y_train)\n",
        "Z = clf.predict(X_test)\n",
        "print(\"Bagging (200 arbres) : \" + str(clf.score(X_test,y_test)))\n",
        "\n",
        "clf = RandomForestClassifier(n_estimators=200)\n",
        "clf.fit(X_train, y_train)\n",
        "Z = clf.predict(X_test)\n",
        "print(\"Forêt aléatoire (200 arbres) : \" + str(clf.score(X_test,y_test)))"
      ]
    },
    {
      "cell_type": "markdown",
      "id": "845ab220",
      "metadata": {
        "id": "845ab220"
      },
      "source": [
        "Les forêts aléatoires produisent un classifieur un peu meilleur sur cette base de données."
      ]
    },
    {
      "cell_type": "markdown",
      "source": [],
      "metadata": {
        "id": "0lPjx7c_J5bC"
      },
      "id": "0lPjx7c_J5bC"
    },
    {
      "cell_type": "markdown",
      "id": "cc14bc85",
      "metadata": {
        "id": "cc14bc85"
      },
      "source": [
        "Construire la variance de la valeur `accuracy` sur 10 tirages pour la séparation apprentissage/test. Que pouvons-nous conclure en comparant avec la séction précedente (*bagging*) ?"
      ]
    },
    {
      "cell_type": "code",
      "execution_count": null,
      "id": "8b1d1ad9",
      "metadata": {
        "hide-output": false,
        "id": "8b1d1ad9"
      },
      "outputs": [],
      "source": [
        "N = 10\n",
        "\n",
        "bagging_accuracies = []\n",
        "for i in range(N):\n",
        "    X_train, X_test, y_train, y_test = train_test_split(X, y, test_size=0.5)\n",
        "    clf = BaggingClassifier(tree.DecisionTreeClassifier(), n_estimators=30)\n",
        "    clf.fit(X_train, y_train)\n",
        "    bagging_accuracies.append(clf.score(X_test,y_test))\n",
        "\n",
        "print(np.mean(bagging_accuracies), np.std(bagging_accuracies))\n",
        "\n",
        "\n",
        "rf_accuracies = []\n",
        "for i in range(N):\n",
        "    X_train, X_test, y_train, y_test = train_test_split(X, y, test_size=0.5)\n",
        "    clf = RandomForestClassifier(n_estimators=30)\n",
        "    clf.fit(X_train, y_train)\n",
        "    rf_accuracies.append(clf.score(X_test,y_test))\n",
        "\n",
        "print(np.mean(rf_accuracies), np.std(rf_accuracies))"
      ]
    },
    {
      "cell_type": "markdown",
      "id": "bdb1ab42",
      "metadata": {
        "id": "bdb1ab42"
      },
      "source": [
        "Construire le graphique `accuracy` vs `n_estimators`. Que constatez-vous ? A partir de quelle valeur on n’améliore plus ?"
      ]
    },
    {
      "cell_type": "code",
      "execution_count": null,
      "metadata": {
        "hide-output": false,
        "id": "be46e818"
      },
      "outputs": [],
      "source": [
        "N = 30\n",
        "accuracy = []\n",
        "\n",
        "X_train, X_test, y_train, y_test = train_test_split(X, y, test_size=0.5)\n",
        "\n",
        "for i in range(N):\n",
        "    clf = RandomForestClassifier(n_estimators=(i+1)*10)\n",
        "    clf.fit(X_train, y_train)\n",
        "    accuracy.append(clf.score(X_test,y_test))\n",
        "    print((i+1)*10, accuracy[i])\n",
        "\n",
        "plt.plot([10*(i+1) for i in range(30)], accuracy)\n",
        "plt.show()"
      ],
      "id": "be46e818"
    },
    {
      "cell_type": "markdown",
      "id": "8aa92702",
      "metadata": {
        "id": "8aa92702"
      },
      "source": [
        "<img src=\"_images/tpforetsfig2.svg\" style=\"width:100%;\">\n",
        "\n",
        "  \n",
        "A partir de `n_estimators = 50` le résultat commence à osciller autour de la moyenne donc on ne gagne plus rien en augmentant la valeur."
      ]
    },
    {
      "cell_type": "markdown",
      "id": "2e32922d",
      "metadata": {
        "id": "2e32922d"
      },
      "source": [
        "## *Boosting*\n",
        "\n",
        "Le principe du *boosting* est d’évaluer une séquence de classifieurs sur plusieurs versions légèrement modifiées des données d’apprentissage. Les décisions obtenues sont alors combinées par une somme ponderée pour obtenir le modèle final.\n",
        "\n",
        "Avec scikit-learn, c’est la classe `AdaBoostClassifier` qui implémente cet algorithme. Les paramètres les plus importants sont :\n",
        "\n",
        "> - `n_estimators` : integer, optional (default=10). Le nombre de classifieurs faibles.  \n",
        "- `learning_rate` : contrôle la vitesse de changement des poids par itération.  \n",
        "- `base_estimator` : (default=DecisionTreeClassifier) le classifieur faible utilisé.  \n",
        "\n",
        "Dans la suite nous allons refaire la classification sur la base Digits en utilisant un classifieur `RandomForestClassifier` :"
      ]
    },
    {
      "cell_type": "code",
      "execution_count": null,
      "id": "1f81ff3d",
      "metadata": {
        "hide-output": false,
        "id": "1f81ff3d"
      },
      "outputs": [],
      "source": [
        "from sklearn.ensemble import AdaBoostClassifier\n",
        "\n",
        "digits = load_digits()\n",
        "X, y = digits.data, digits.target\n",
        "\n",
        "X_train, X_test, y_train, y_test = train_test_split(X, y, test_size=0.90)\n",
        "\n",
        "# AdaBoost basé sur 200 arbres de décision\n",
        "clf = AdaBoostClassifier(base_estimator=tree.DecisionTreeClassifier(max_depth=5), n_estimators=200, learning_rate=2)\n",
        "clf.fit(X_train, y_train)\n",
        "accuracy = clf.score(X_test, y_test)\n",
        "print(accuracy)"
      ]
    },
    {
      "cell_type": "markdown",
      "id": "2878a96e",
      "metadata": {
        "id": "2878a96e"
      },
      "source": [
        "Le paramètre `max_depth` contrôle la profondeur de l’arbre. Essayez plusieurs valeurs pour voir l’impact de l’utilisation d’un classifieur faible vs plus fort (`max_depth` élevé ou éliminer le paramètre). Testez aussi l’effet du paramètre `learning_rate` et le nombre de classifieurs."
      ]
    }
  ],
  "metadata": {
    "date": 1680627836.1461651,
    "filename": "tpForetsAleatoires.rst",
    "kernelspec": {
      "display_name": "Python",
      "language": "python",
      "name": "python"
    },
    "title": "Travaux pratiques - Forêts aléatoires",
    "colab": {
      "provenance": []
    }
  },
  "nbformat": 4,
  "nbformat_minor": 5
}