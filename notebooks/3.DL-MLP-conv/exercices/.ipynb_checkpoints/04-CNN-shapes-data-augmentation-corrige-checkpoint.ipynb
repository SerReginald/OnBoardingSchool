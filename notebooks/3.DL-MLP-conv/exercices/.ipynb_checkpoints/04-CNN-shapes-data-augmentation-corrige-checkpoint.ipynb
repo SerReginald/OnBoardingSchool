{
 "cells": [
  {
   "cell_type": "markdown",
   "metadata": {},
   "source": [
    "# Classification de formes à l'aide d'un réseau de convolution : augmentation de données\n",
    "\n",
    "> Author: Françoise Bouvet (IJCLab, CNRS)  \n",
    "> Email: <francoise.bouvet@ijclab.in2p3.fr>"
   ]
  },
  {
   "cell_type": "markdown",
   "metadata": {},
   "source": [
    "1. [Introduction](#Introduction)\n",
    "2. [Préparation des données](#Préparation-des-données)\n",
    "3. [Structure du réseau](#Structure-du-réseau)\n",
    "4. [Apprentissage](#Apprentissage)\n",
    "5. [Evaluation](#Evaluation)"
   ]
  },
  {
   "cell_type": "markdown",
   "metadata": {
    "tags": []
   },
   "source": [
    "## Introduction\n",
    "\n",
    "L'objectif de ce TP est d'essayer d'améliorer les résultats en pratiquant de l'augmentation de données par transformations géométriques.\n",
    "\n",
    "Les images sont issues de la base de données de la plateforme [kaggle](https://www.kaggle.com/)  \n",
    "\n",
    "Pour vous aider, vous trouverez des informations complémentaires sur la librairie [keras](https://keras.io/getting_started/)"
   ]
  },
  {
   "cell_type": "markdown",
   "metadata": {},
   "source": [
    "## Préparation des données"
   ]
  },
  {
   "cell_type": "code",
   "execution_count": 1,
   "metadata": {},
   "outputs": [],
   "source": [
    "import numpy as np\n",
    "from utils import lecture_shape_1channel\n",
    "\n",
    "rep_data = \"../datasets/data_shape/\"\n",
    "lst_shape = ['circle', 'ellipse', 'rectangle', 'square', 'triangle']\n",
    "\n",
    "# Read input data and transform output into one hot encoding\n",
    "input_train_raw, output_train_raw = lecture_shape_1channel(rep_data + \"train/\", \"*.png\", lst_shape)\n",
    "\n",
    "if input_train_raw is None or not np.any(input_train_raw):\n",
    "    print(f'Aucun fichier {extension} trouvé dans {dir}')"
   ]
  },
  {
   "cell_type": "code",
   "execution_count": 10,
   "metadata": {},
   "outputs": [
    {
     "name": "stdout",
     "output_type": "stream",
     "text": [
      "[189 123 185 213 106 127 176  73 275 242 266 147 299  58 122  78  11 167\n",
      " 220  29  27 110 251  12 105  18 297  90 293 184 139 248 229  59  51  88\n",
      "  95 164  80 217 221 228 191   4  70 222 249 161  16 208   0 284 285 175\n",
      " 288 119  62 180 214 193 158 150 102 163 112 246  39 170  85 243 282  17\n",
      " 111 131  42 108 292   5  89  38 174  67 256 107  34 181 290 244 197 279\n",
      " 253  19  14  91 296 168  44 280 238 120 259  41  79 283 138 187 261 117\n",
      "  99   8 227 182 132  31 171  55  28 236 169  48 239 159 211  33  93 146\n",
      "  35 204  63 223 225  66 154 188 247 258  47 219 206  40  21 101  69  53\n",
      " 137  24 232 134 202 116 298 142 230 157 274  56  61 172 173  84 177 114\n",
      " 271 250 118 201 145 294 260  54 267 179 194 192  98 212 130  97 270  82\n",
      " 186  60  94 140 224 148 152 269 286  81 124 233 234  13  96 240  45 207\n",
      " 103  36 268  20 273 210  75 200 218 277 295 149 263   2 198  52   6 205\n",
      " 128 265  77 113  65 183 151 272 160  46 190  74  92 199 257  87 143 245\n",
      "  10 162  32 136 166  83  57 165 155 100 125  23 126 231 195   9 287 104\n",
      " 153 262 135 289 226  25 196  64  15 109  26  76  43   3  49 291  30 121\n",
      " 115 278 216 264 209   1  22   7 141  86 241 215  68  50 156 252 254 276\n",
      " 178 281 237  71 129 144 133 203 255  72 235  37]\n",
      "Il y a 300 échantillons\n"
     ]
    }
   ],
   "source": [
    "from keras.utils import to_categorical\n",
    "\n",
    "# Normalize input data\n",
    "input_train = input_train_raw.astype('float32') / 255.\n",
    "# Transform output into one hot encoding\n",
    "output_train = to_categorical(output_train_raw)\n",
    "\n",
    "# Shuffle input data\n",
    "ind = np.arange(0, np.shape(input_train)[0])\n",
    "np.random.shuffle(ind)\n",
    "print(ind)\n",
    "\n",
    "\n",
    "# Apply to data ; \n",
    "input_train = input_train[ind]\n",
    "output_train = output_train[ind]\n",
    "\n",
    "print(f'Il y a {input_train.shape[0]} échantillons')"
   ]
  },
  {
   "cell_type": "markdown",
   "metadata": {},
   "source": [
    "### Création d'une couche de transformation\n",
    "On peut utiliser RandomFlip(...) et RandomZoom(...).  \n",
    "Utiliser l'option adéquate pour le paramètre fill_mode de RandomZoom().  \n",
    "Attention,compte tenu des données, RandomRotation() n'est pas approprié car changerait le type de forme ; idem pour les modifications de contraste car les images sont binaires."
   ]
  },
  {
   "cell_type": "code",
   "execution_count": null,
   "metadata": {},
   "outputs": [],
   "source": [
    "from tensorflow import keras\n",
    "from keras.models import Sequential\n",
    "from keras.layers import RandomFlip, RandomRotation, RandomZoom\n",
    "\n",
    "data_augmentation = keras.Sequential([\n",
    "    RandomFlip(\"horizontal_and_vertical\"),\n",
    "    RandomZoom(-0.2, 0.2, fill_mode='nearest'),\n",
    "])"
   ]
  },
  {
   "cell_type": "markdown",
   "metadata": {},
   "source": [
    "### Vérification sur quelques images "
   ]
  },
  {
   "cell_type": "code",
   "execution_count": 4,
   "metadata": {},
   "outputs": [
    {
     "data": {
      "image/png": "[encoded data removed]",
      "text/plain": [
       "<Figure size 640x480 with 9 Axes>"
      ]
     },
     "metadata": {},
     "output_type": "display_data"
    }
   ],
   "source": [
    "import matplotlib.pyplot as plt\n",
    "\n",
    "for i, image in enumerate(input_train[0:9]):\n",
    "  ax = plt.subplot(3, 3, i + 1)\n",
    "  plt.imshow(image)\n",
    "  plt.axis(\"off\")"
   ]
  },
  {
   "cell_type": "code",
   "execution_count": 3,
   "metadata": {},
   "outputs": [
    {
     "ename": "NameError",
     "evalue": "name 'data_augmentation' is not defined",
     "output_type": "error",
     "traceback": [
      "\u001b[1;31m---------------------------------------------------------------------------\u001b[0m",
      "\u001b[1;31mNameError\u001b[0m                                 Traceback (most recent call last)",
      "Cell \u001b[1;32mIn[3], line 1\u001b[0m\n\u001b[1;32m----> 1\u001b[0m augmented_image \u001b[38;5;241m=\u001b[39m \u001b[43mdata_augmentation\u001b[49m(input_train)\n\u001b[0;32m      2\u001b[0m \u001b[38;5;28mprint\u001b[39m(np\u001b[38;5;241m.\u001b[39mshape(augmented_image))\n\u001b[0;32m      4\u001b[0m \u001b[38;5;28;01mfor\u001b[39;00m i, image \u001b[38;5;129;01min\u001b[39;00m \u001b[38;5;28menumerate\u001b[39m(augmented_image[\u001b[38;5;241m0\u001b[39m:\u001b[38;5;241m9\u001b[39m]):\n",
      "\u001b[1;31mNameError\u001b[0m: name 'data_augmentation' is not defined"
     ]
    }
   ],
   "source": [
    "augmented_image = data_augmentation(input_train)\n",
    "print(np.shape(augmented_image))\n",
    "\n",
    "for i, image in enumerate(augmented_image[0:9]):\n",
    "  ax = plt.subplot(3, 3, i + 1)\n",
    "  plt.imshow(image)\n",
    "  plt.axis(\"off\")"
   ]
  },
  {
   "cell_type": "markdown",
   "metadata": {},
   "source": [
    "## Structure du réseau"
   ]
  },
  {
   "cell_type": "code",
   "execution_count": null,
   "metadata": {},
   "outputs": [],
   "source": [
    "from keras.layers import Dense, Conv2D, MaxPooling2D, Flatten\n",
    "\n",
    "# Network definition : add successive layers\n",
    "model = Sequential()\n",
    "\n",
    "model.add(data_augmentation)\n",
    "\n",
    "# Convolution layers\n",
    "model.add(Conv2D(64, kernel_size=(3, 3), activation='relu', padding='same'))\n",
    "model.add(MaxPooling2D(pool_size=(2, 2)))\n",
    "#\n",
    "model.add(Conv2D(128, kernel_size=(3, 3), activation='relu', padding='same'))\n",
    "model.add(MaxPooling2D(pool_size=(2, 2)))\n",
    "#\n",
    "model.add(Conv2D(256, kernel_size=(3, 3), activation='relu', padding='same'))\n",
    "model.add(MaxPooling2D(pool_size=(2, 2)))\n",
    "#\n",
    "model.add(Conv2D(256, kernel_size=(3, 3), activation='relu', padding='same'))\n",
    "model.add(MaxPooling2D(pool_size=(2, 2)))\n",
    "\n",
    "# Reshape input 1D vector\n",
    "model.add(Flatten())\n",
    "\n",
    "# Full connected layer (MLP)\n",
    "model.add(Dense(256, activation='relu'))\n",
    "model.add(Dense(256, activation='relu'))\n",
    "\n",
    "# # Output layer\n",
    "model.add(Dense(5, activation='softmax'))"
   ]
  },
  {
   "cell_type": "markdown",
   "metadata": {},
   "source": [
    "#### Compilation"
   ]
  },
  {
   "cell_type": "code",
   "execution_count": null,
   "metadata": {},
   "outputs": [],
   "source": [
    "# Compilation of the model\n",
    "model.compile(loss='categorical_crossentropy', optimizer='adam', metrics=['categorical_accuracy'])"
   ]
  },
  {
   "cell_type": "markdown",
   "metadata": {},
   "source": [
    "## Apprentissage"
   ]
  },
  {
   "cell_type": "code",
   "execution_count": null,
   "metadata": {},
   "outputs": [],
   "source": [
    "from keras.callbacks import ReduceLROnPlateau, TensorBoard\n",
    "\n",
    "# Decrease the learning rate factor\n",
    "reduce_lr_cb = ReduceLROnPlateau(monitor='val_loss', factor=0.5, patience=3, min_lr=0.0001)\n",
    "# Suivi de l'appentissage par Tensorboard\n",
    "tensorboard_cb = TensorBoard(log_dir=\"./logs\")\n",
    "\n",
    "cb = [reduce_lr_cb, tensorboard_cb,]\n",
    "\n",
    "history = model.fit(input_train, output_train,\n",
    "                    epochs=20,\n",
    "                    validation_split=0.2,\n",
    "                    batch_size=32,\n",
    "                    verbose=2,  \n",
    "                    callbacks=cb)"
   ]
  },
  {
   "cell_type": "code",
   "execution_count": null,
   "metadata": {},
   "outputs": [],
   "source": [
    "from utils import draw_history\n",
    "\n",
    "draw_history(history)"
   ]
  },
  {
   "cell_type": "code",
   "execution_count": null,
   "metadata": {},
   "outputs": [],
   "source": [
    "from keras import models\n",
    "model.save('./model_shape.keras')"
   ]
  },
  {
   "cell_type": "markdown",
   "metadata": {},
   "source": [
    "#### Evaluation"
   ]
  },
  {
   "cell_type": "code",
   "execution_count": null,
   "metadata": {},
   "outputs": [],
   "source": [
    "# Read test data\n",
    "input_test, output_test = lecture_shape_1channel(rep_data + \"test/\", \"*.png\", lst_shape)\n",
    "# Normalize test data\n",
    "input_test = input_test.astype('float32') / 255.\n",
    "# Transform output into one hot encoding\n",
    "output_test = to_categorical(output_test)\n",
    "\n",
    "# Test set shuffle only aims to display samples from all the classes\n",
    "ind = np.arange(np.shape(input_test)[0])\n",
    "np.random.shuffle(ind)\n",
    "input_test = np.array(input_test)[ind]\n",
    "output_test =np.array(output_test)[ind]\n",
    "\n",
    "# Evaluate the model ; the two parameters are the input_test array and the output_test array\n",
    "sum_score = model.evaluate(input_test, output_test)\n",
    "print(\"Data test : loss %.3f accuracy %.3f\" % (sum_score[0], sum_score[1]))\n",
    "\n",
    "# Prediction ; the input parameter is the input_test array ; return value is the prediction array\n",
    "output_predict = model.predict(input_test)"
   ]
  },
  {
   "cell_type": "code",
   "execution_count": null,
   "metadata": {},
   "outputs": [],
   "source": [
    "from utils import draw_multiple_images\n",
    "\n",
    "# Display the test images and the predicted class\n",
    "n=min(40, np.shape(input_test)[0])\n",
    "nb_col = 8\n",
    "draw_multiple_images(input_test[0:n], output_test[0:n], output_predict[0:n], lst_shape, nb_col, np.shape(input_test)[1:])"
   ]
  },
  {
   "cell_type": "code",
   "execution_count": null,
   "metadata": {},
   "outputs": [],
   "source": []
  }
 ],
 "metadata": {
  "kernelspec": {
   "display_name": "Python 3 (ipykernel)",
   "language": "python",
   "name": "python3"
  },
  "language_info": {
   "codemirror_mode": {
    "name": "ipython",
    "version": 3
   },
   "file_extension": ".py",
   "mimetype": "text/x-python",
   "name": "python",
   "nbconvert_exporter": "python",
   "pygments_lexer": "ipython3",
   "version": "3.11.5"
  }
 },
 "nbformat": 4,
 "nbformat_minor": 4
}
