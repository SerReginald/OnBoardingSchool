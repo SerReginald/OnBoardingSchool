{
 "cells": [
  {
   "cell_type": "markdown",
   "metadata": {},
   "source": [
    "# Classification de formes à l'aide d'un réseau de convolution : optimiser le réseau\n",
    "\n",
    "> Author: Françoise Bouvet (IJCLab, CNRS)  \n",
    "> Email: <francoise.bouvet@ijclab.in2p3.fr>"
   ]
  },
  {
   "cell_type": "markdown",
   "metadata": {
    "tags": []
   },
   "source": [
    "#### TP libre\n",
    "\n",
    "L'objectif de ce TP est d'optimiser les prédictions sur l'ensemble des formes géométriques en faisant appel aux différentes outils vus précédemment.\n",
    "\n",
    "Les images sont issues de la base de données de la plateforme [kaggle](https://www.kaggle.com/)  \n",
    "\n",
    "Pour vous aider, vous trouverez des informations complémentaires sur la librairie [keras](https://keras.io/getting_started/)"
   ]
  },
  {
   "cell_type": "markdown",
   "metadata": {},
   "source": [
    "## Lecture et préparation des données"
   ]
  },
  {
   "cell_type": "code",
   "execution_count": 1,
   "metadata": {},
   "outputs": [
    {
     "name": "stdout",
     "output_type": "stream",
     "text": [
      "Il y a 300 échantillons\n"
     ]
    }
   ],
   "source": [
    "import numpy as np\n",
    "from utils import lecture_shape_1channel\n",
    "from keras.utils import to_categorical\n",
    "\n",
    "rep_data = \"../datasets/data_shape/\"\n",
    "lst_shape = ['circle', 'ellipse', 'rectangle', 'square', 'triangle']\n",
    "\n",
    "# Read input data and transform output into one hot encoding\n",
    "input_train_raw, output_train_raw = lecture_shape_1channel(rep_data + \"train/\", \"*.png\", lst_shape)\n",
    "\n",
    "if input_train_raw is None or not np.any(input_train_raw):\n",
    "    print(f'Aucun fichier {extension} trouvé dans {dir}')\n",
    "\n",
    "# Normalize input data\n",
    "input_train = input_train_raw.astype('float32') / 255.\n",
    "# Transform output into one hot encoding\n",
    "output_train = to_categorical(output_train_raw)\n",
    "\n",
    "# Shuffle input data\n",
    "ind = np.arange(0, np.shape(input_train)[0])\n",
    "# Ne pas changer la seed, permet d'avoir le même ensemble train/validation pour l'entrainement\n",
    "np.random.seed(1)\n",
    "np.random.shuffle(ind)\n",
    "\n",
    "# Apply to data ; \n",
    "input_train = input_train[ind]\n",
    "output_train = output_train[ind]\n",
    "\n",
    "print(f'Il y a {input_train.shape[0]} échantillons')"
   ]
  },
  {
   "cell_type": "markdown",
   "metadata": {},
   "source": [
    "### A vous ..."
   ]
  },
  {
   "cell_type": "code",
   "execution_count": null,
   "metadata": {},
   "outputs": [],
   "source": []
  },
  {
   "cell_type": "markdown",
   "metadata": {},
   "source": [
    "### Evaluation"
   ]
  },
  {
   "cell_type": "code",
   "execution_count": null,
   "metadata": {},
   "outputs": [],
   "source": [
    "# Read test data\n",
    "input_test, output_test = lecture_shape_1channel(rep_data + \"test/\", \"*.png\", lst_shape)\n",
    "# Normalize test data\n",
    "input_test = input_test.astype('float32') / 255.\n",
    "# Transform output into one hot encoding\n",
    "output_test = to_categorical(output_test)\n",
    "\n",
    "# Test set shuffle only aims to display samples from all the classes\n",
    "ind = np.arange(np.shape(input_test)[0])\n",
    "np.random.shuffle(ind)\n",
    "input_test = np.array(input_test)[ind]\n",
    "output_test =np.array(output_test)[ind]\n",
    "\n",
    "# Evaluate the model ; the two parameters are the input_test array and the output_test array\n",
    "sum_score = model.evaluate(input_test, output_test)\n",
    "print(\"Résultat sur l'échantillon test : loss %.3f accuracy %.3f\" % (sum_score[0], sum_score[1]))\n",
    "\n",
    "# Prediction ; the input parameter is the input_test array ; return value is the prediction array\n",
    "output_predict = model.predict(input_test)"
   ]
  },
  {
   "cell_type": "code",
   "execution_count": null,
   "metadata": {},
   "outputs": [],
   "source": [
    "from utils import draw_multiple_images\n",
    "\n",
    "# Display the test images and the predicted class\n",
    "n=min(40, np.shape(input_test)[0])\n",
    "nb_col = 8\n",
    "draw_multiple_images(input_test[0:n], output_test[0:n], output_predict[0:n], lst_shape, nb_col, np.shape(input_test)[1:])"
   ]
  },
  {
   "cell_type": "code",
   "execution_count": null,
   "metadata": {},
   "outputs": [],
   "source": []
  }
 ],
 "metadata": {
  "kernelspec": {
   "display_name": "Python 3 (ipykernel)",
   "language": "python",
   "name": "python3"
  },
  "language_info": {
   "codemirror_mode": {
    "name": "ipython",
    "version": 3
   },
   "file_extension": ".py",
   "mimetype": "text/x-python",
   "name": "python",
   "nbconvert_exporter": "python",
   "pygments_lexer": "ipython3",
   "version": "3.11.5"
  }
 },
 "nbformat": 4,
 "nbformat_minor": 4
}
