{
 "cells": [
  {
   "cell_type": "markdown",
   "metadata": {},
   "source": [
    "# Visualisation des formes et des feature map\n",
    "> Author: Françoise Bouvet (IJCLab, CNRS)  \n",
    "> Email: <francoise.bouvet@ijclab.in2p3.fr>"
   ]
  },
  {
   "cell_type": "markdown",
   "metadata": {},
   "source": [
    "L'objectif de ce TP est de visualiser les noyaux des filtres de convolution et les features map dans les différentes couches du réseau.   \n",
    "On suppose que le réseau a été préalablement entraîné et sauvegardé.  \n",
    "Les images sont issues de la base de données de la plateforme [kaggle](https://www.kaggle.com/)  \n",
    "Pour vous aider, vous trouverez des informations complémentaires sur la librairie [keras](https://keras.io/getting_started/)"
   ]
  },
  {
   "cell_type": "markdown",
   "metadata": {},
   "source": [
    "#### Lecture du modèle enregistré"
   ]
  },
  {
   "cell_type": "code",
   "execution_count": null,
   "metadata": {},
   "outputs": [],
   "source": [
    "from keras import models\n",
    "\n",
    "model = models.load_model('./model_shape.keras')\n",
    "print(model)"
   ]
  },
  {
   "cell_type": "markdown",
   "metadata": {},
   "source": [
    "#### Fonction d'affichage des informations de chaque couche"
   ]
  },
  {
   "cell_type": "code",
   "execution_count": null,
   "metadata": {},
   "outputs": [],
   "source": [
    "def display_layers(model):\n",
    "\n",
    "    for i, layer in enumerate(model.layers):\n",
    "        print(layer.name, layer.output.shape, layer.output.name)"
   ]
  },
  {
   "cell_type": "markdown",
   "metadata": {},
   "source": [
    "#### Appel de la fonction"
   ]
  },
  {
   "cell_type": "code",
   "execution_count": null,
   "metadata": {},
   "outputs": [],
   "source": [
    "#display_layers(model)"
   ]
  },
  {
   "cell_type": "markdown",
   "metadata": {},
   "source": [
    "#### Fonction de visualisation de certains noyaux des filtres couche / couche"
   ]
  },
  {
   "cell_type": "code",
   "execution_count": null,
   "metadata": {},
   "outputs": [],
   "source": [
    "import matplotlib.pyplot as plt\n",
    "\n",
    "def visualize_filters(model):\n",
    "\n",
    "    for layer in model.layers:\n",
    "        # check for convolutional layer\n",
    "        if 'conv' in layer.name:\n",
    "            filters, biases = layer.get_weights()\n",
    "            print(layer.name, filters.shape)\n",
    "            filters, biases = layer.get_weights()\n",
    "            f_min, f_max = filters.min(), filters.max()\n",
    "            filters = (filters - f_min) / (f_max - f_min)\n",
    "            # plot first few filters\n",
    "            n_filters, ix = 6, 1\n",
    "            for i in range(n_filters):\n",
    "                # get the filter\n",
    "                f = filters[:, :, :, i]\n",
    "                # plot each channel separately\n",
    "                for j in range(3):\n",
    "                    # specify subplot and turn of axis\n",
    "                    ax = plt.subplot(n_filters, 3, ix)\n",
    "                    ax.set_xticks([])\n",
    "                    ax.set_yticks([])\n",
    "                    # plot filter channel in grayscale\n",
    "                    im = plt.imshow(f[:, :, 0], cmap='Blues', vmin=0, vmax=1)\n",
    "                    #plt.colorbar()\n",
    "                    ix += 1\n",
    "            # show the figure\n",
    "            plt.show()"
   ]
  },
  {
   "cell_type": "markdown",
   "metadata": {},
   "source": [
    "#### Appel de la fonction"
   ]
  },
  {
   "cell_type": "code",
   "execution_count": null,
   "metadata": {},
   "outputs": [],
   "source": [
    "#visualize_filters(model)"
   ]
  },
  {
   "cell_type": "markdown",
   "metadata": {},
   "source": [
    "#### Visualisation du contenu des feature map dans différentes couches de convolution\n",
    "Dans un premier temps, on lit les images pré-sélectionnées dans le répertoire \"data_shape_selection\". Elles serviront d'input au réseau. Ensuite, on créé un modèle qui reprend le début du réseau initial et sort un output sur une couche donnée."
   ]
  },
  {
   "cell_type": "code",
   "execution_count": null,
   "metadata": {},
   "outputs": [],
   "source": [
    "import numpy as np\n",
    "import imageio.v3 as iio\n",
    "import glob\n",
    "import random\n",
    "\n",
    "rep_data = \"../datasets/data_shape_selection/\"\n",
    "\n",
    "# Read input images \n",
    "files = glob.glob(rep_data + \"/*.png\")\n",
    "input_train_raw = []\n",
    "for file in files:\n",
    "    image = np.array(iio.imread(file))[:,:,1].reshape((64,64,1))\n",
    "    input_train_raw.append(image)\n",
    "\n",
    "# Normalize input data\n",
    "input_train = np.array(input_train_raw).astype('float32') / 255."
   ]
  },
  {
   "cell_type": "markdown",
   "metadata": {},
   "source": [
    "#### Fonction de visualisation des feature map dans chaque couche pour les images sélectionnées"
   ]
  },
  {
   "cell_type": "code",
   "execution_count": null,
   "metadata": {},
   "outputs": [],
   "source": [
    "from keras.models import Model\n",
    "\n",
    "def visualize_features(model, layers, input_data_sample):\n",
    "\n",
    "    for ind_layer in layers:\n",
    "        model_partiel = Model(inputs=model.inputs, outputs=[model.layers[ind_layer].output])\n",
    "        model_partiel.summary()\n",
    "        feature_maps = model_partiel.predict(input_data_sample)\n",
    "        \n",
    "        print(np.shape(feature_maps))\n",
    "\n",
    "        # plot the first 16 maps in an 4x4 squares\n",
    "        for fmap in feature_maps:\n",
    "            square = 4\n",
    "            ix = 1\n",
    "            for _ in range(square):\n",
    "                for _ in range(square):\n",
    "                     # specify subplot and turn of axis\n",
    "                     ax = plt.subplot(square, square, ix)\n",
    "                     ax.set_xticks([])\n",
    "                     ax.set_yticks([])\n",
    "                     # plot filter channel in grayscale\n",
    "                     plt.imshow(fmap[:, :, ix-1], cmap='gray')\n",
    "                     ix += 1\n",
    "            # show the figure\n",
    "            plt.show()"
   ]
  },
  {
   "cell_type": "markdown",
   "metadata": {},
   "source": [
    "#### Appel de la fonction"
   ]
  },
  {
   "cell_type": "code",
   "execution_count": null,
   "metadata": {},
   "outputs": [],
   "source": [
    "# Choose the layers you want to visualize and give their nulbers as argument\n",
    "visualize_features(model, [...], input_train)"
   ]
  },
  {
   "cell_type": "code",
   "execution_count": null,
   "metadata": {},
   "outputs": [],
   "source": []
  },
  {
   "cell_type": "code",
   "execution_count": null,
   "metadata": {},
   "outputs": [],
   "source": []
  }
 ],
 "metadata": {
  "kernelspec": {
   "display_name": "Python 3 (ipykernel)",
   "language": "python",
   "name": "python3"
  },
  "language_info": {
   "codemirror_mode": {
    "name": "ipython",
    "version": 3
   },
   "file_extension": ".py",
   "mimetype": "text/x-python",
   "name": "python",
   "nbconvert_exporter": "python",
   "pygments_lexer": "ipython3",
   "version": "3.11.5"
  }
 },
 "nbformat": 4,
 "nbformat_minor": 4
}
