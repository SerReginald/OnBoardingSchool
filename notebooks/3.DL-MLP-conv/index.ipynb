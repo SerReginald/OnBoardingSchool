{
 "cells": [
  {
   "cell_type": "markdown",
   "metadata": {},
   "source": [
    "# Deep Learning nvec Python et Keras\n",
    "\n",
    "#### Françoise Bouvet"
   ]
  },
  {
   "cell_type": "markdown",
   "metadata": {},
   "source": [
    "## Exercice or demonstration\n",
    "\n",
    "1. [Cancer du sein : classification avec un MLP](exercices/01-MLP-cancer.ipynb) : utilisation d'un perceptron multicouche  \n",
    "Les exercices 2 à 7 consistent à développer un **réseau de convolution pour classer des formes géométriques**.  Les exercices 4 à 6 sont indépendants et peuvent être effectués dans n'importe quel ordre. \n",
    "1. [Classification de formes géométriques avec un CNN](exercices/02-CNN-shapes.ipynb) \n",
    "1. [Callbacks](exercices/03-CNN-shapes-callback.ipynb)\n",
    "1. [Augmentation de données](exercices/04-CNN-shapes-data-augmentation.ipynb)\n",
    "1. [Dans les entrailles du CNN](exercices/05-CNN-display-layers.ipynb)\n",
    "1. [Apprentissage par transfert](exercices/06-CNN-shapes-transfer.ipynb)\n",
    "1. [Le \"meilleur\" réseau : à vous de jouer ...](exercices/07-CNN-shapes-optimiser.ipynb)\n",
    "\n",
    "## Correction\n",
    "1. [Cancer du sein : classification avec un MLP](corriges/01-MLP-cancer-corrige.ipynb)\n",
    "1. [Classification de formes géométriques avec un CNN](corriges/02-CNN-shapes-corrige.ipynb)\n",
    "1. [Callbacks](corriges/03-CNN-shapes-callback-corrige.ipynb)\n",
    "1. [Augmentation de données](corriges/04-CNN-shapes-data-augmentation-corrige.ipynb)\n",
    "1. [Dans les entrailles du CNN](corriges/05-CNN-display-layers-corrige.ipynb)\n",
    "1. [Apprentissage par transfert](corriges/06-CNN-shapes-transfer-corrige.ipynb)\n"
   ]
  },
  {
   "cell_type": "code",
   "execution_count": null,
   "metadata": {},
   "outputs": [],
   "source": []
  }
 ],
 "metadata": {
  "kernelspec": {
   "display_name": "Python 3 (ipykernel)",
   "language": "python",
   "name": "python3"
  },
  "language_info": {
   "codemirror_mode": {
    "name": "ipython",
    "version": 3
   },
   "file_extension": ".py",
   "mimetype": "text/x-python",
   "name": "python",
   "nbconvert_exporter": "python",
   "pygments_lexer": "ipython3",
   "version": "3.11.5"
  }
 },
 "nbformat": 4,
 "nbformat_minor": 4
}
