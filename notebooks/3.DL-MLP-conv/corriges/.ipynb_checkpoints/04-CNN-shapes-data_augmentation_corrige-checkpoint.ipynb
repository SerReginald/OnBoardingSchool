{
 "cells": [
  {
   "cell_type": "markdown",
   "metadata": {},
   "source": [
    "# Classification of geometrical shapes using a CNN: callback functions\n",
    "\n",
    "> Author: Françoise Bouvet (IJCLab, CNRS)  \n",
    "> Email: <francoise.bouvet@ijclab.in2p3.fr>"
   ]
  },
  {
   "cell_type": "markdown",
   "metadata": {
    "tags": []
   },
   "source": [
    "This exercise is based on the geometrical shape classification exercise. The purpose is here to show how we can use callbacks to monitor the training.\n",
    "\n",
    "The data comes from the kaggle platform database [kaggle](https://www.kaggle.com/)\n",
    "\n",
    "We use the [keras](https://keras.io/getting_started/) library."
   ]
  },
  {
   "cell_type": "code",
   "execution_count": 1,
   "metadata": {},
   "outputs": [],
   "source": [
    "    # Spécifique config W11\n",
    "    import os\n",
    "    os.environ[\"KMP_DUPLICATE_LIB_OK\"]=\"TRUE\""
   ]
  },
  {
   "cell_type": "markdown",
   "metadata": {},
   "source": [
    "#### Data preprocessing"
   ]
  },
  {
   "cell_type": "code",
   "execution_count": 2,
   "metadata": {},
   "outputs": [],
   "source": [
    "import numpy as np\n",
    "from utils import lecture_shape\n",
    "\n",
    "rep_data = \"../datasets/data_shape/\"\n",
    "lst_shape = ['circle', 'ellipse', 'rectangle', 'square', 'triangle']\n",
    "\n",
    "# Read input data and transform output into one hot encoding\n",
    "input_train_raw, output_train_raw = lecture_shape(rep_data + \"train/\", \"*.png\", lst_shape)\n",
    "\n",
    "if input_train_raw is None or not np.any(input_train_raw):\n",
    "    print(f'No file {extension} found in {dir}')"
   ]
  },
  {
   "cell_type": "code",
   "execution_count": 3,
   "metadata": {},
   "outputs": [
    {
     "name": "stdout",
     "output_type": "stream",
     "text": [
      "The dataset contains 300 samples\n"
     ]
    }
   ],
   "source": [
    "from keras.utils import to_categorical\n",
    "\n",
    "# Normalize input data\n",
    "input_train = input_train_raw.astype('float32') / 255.\n",
    "# Transform output into one hot encoding\n",
    "output_train = to_categorical(output_train_raw)\n",
    "\n",
    "# Shuffle input data\n",
    "ind = np.arange(0, np.shape(input_train)[0])\n",
    "np.random.shuffle(ind)\n",
    "\n",
    "# Apply to data ; \n",
    "input_train = input_train[ind]\n",
    "output_train = output_train[ind]\n",
    "\n",
    "print(f'The dataset contains {input_train.shape[0]} samples')"
   ]
  },
  {
   "cell_type": "markdown",
   "metadata": {},
   "source": [
    "#### Network structure"
   ]
  },
  {
   "cell_type": "code",
   "execution_count": 4,
   "metadata": {},
   "outputs": [],
   "source": [
    "from keras.models import Sequential\n",
    "from keras.layers import Dense, Conv2D, MaxPooling2D, Flatten, Dropout\n",
    "\n",
    "# Network definition : add successive layers\n",
    "model = Sequential()\n",
    "\n",
    "# Convolution layers\n",
    "model.add(Conv2D(64, kernel_size=(3, 3), activation='relu', padding='same', input_shape=(64, 64, 1)))\n",
    "model.add(MaxPooling2D(pool_size=(2, 2)))\n",
    "#\n",
    "model.add(Conv2D(128, kernel_size=(3, 3), activation='relu', padding='same'))\n",
    "model.add(MaxPooling2D(pool_size=(2, 2)))\n",
    "#\n",
    "model.add(Conv2D(256, kernel_size=(3, 3), activation='relu', padding='same'))\n",
    "model.add(MaxPooling2D(pool_size=(2, 2)))\n",
    "#\n",
    "model.add(Conv2D(256, kernel_size=(3, 3), activation='relu', padding='same'))\n",
    "model.add(MaxPooling2D(pool_size=(2, 2)))\n",
    "\n",
    "# Reshape input 1D vector\n",
    "model.add(Flatten())\n",
    "\n",
    "# Full connected layer (MLP)\n",
    "model.add(Dense(256, activation='relu'))\n",
    "model.add(Dense(256, activation='relu'))\n",
    "\n",
    "# # Output layer\n",
    "model.add(Dense(5, activation='softmax'))"
   ]
  },
  {
   "cell_type": "markdown",
   "metadata": {},
   "source": [
    "#### Compilation"
   ]
  },
  {
   "cell_type": "code",
   "execution_count": 5,
   "metadata": {},
   "outputs": [
    {
     "name": "stdout",
     "output_type": "stream",
     "text": [
      "Model: \"sequential\"\n",
      "_________________________________________________________________\n",
      " Layer (type)                Output Shape              Param #   \n",
      "=================================================================\n",
      " conv2d (Conv2D)             (None, 64, 64, 64)        640       \n",
      "                                                                 \n",
      " max_pooling2d (MaxPooling2D  (None, 32, 32, 64)       0         \n",
      " )                                                               \n",
      "                                                                 \n",
      " conv2d_1 (Conv2D)           (None, 32, 32, 128)       73856     \n",
      "                                                                 \n",
      " max_pooling2d_1 (MaxPooling  (None, 16, 16, 128)      0         \n",
      " 2D)                                                             \n",
      "                                                                 \n",
      " conv2d_2 (Conv2D)           (None, 16, 16, 256)       295168    \n",
      "                                                                 \n",
      " max_pooling2d_2 (MaxPooling  (None, 8, 8, 256)        0         \n",
      " 2D)                                                             \n",
      "                                                                 \n",
      " conv2d_3 (Conv2D)           (None, 8, 8, 256)         590080    \n",
      "                                                                 \n",
      " max_pooling2d_3 (MaxPooling  (None, 4, 4, 256)        0         \n",
      " 2D)                                                             \n",
      "                                                                 \n",
      " flatten (Flatten)           (None, 4096)              0         \n",
      "                                                                 \n",
      " dense (Dense)               (None, 256)               1048832   \n",
      "                                                                 \n",
      " dense_1 (Dense)             (None, 256)               65792     \n",
      "                                                                 \n",
      " dense_2 (Dense)             (None, 5)                 1285      \n",
      "                                                                 \n",
      "=================================================================\n",
      "Total params: 2,075,653\n",
      "Trainable params: 2,075,653\n",
      "Non-trainable params: 0\n",
      "_________________________________________________________________\n"
     ]
    }
   ],
   "source": [
    "# Compilation of the model\n",
    "model.compile(loss='categorical_crossentropy', optimizer='adam', metrics=['categorical_accuracy'])\n",
    "\n",
    "# Display the model\n",
    "model.summary()"
   ]
  },
  {
   "cell_type": "markdown",
   "metadata": {},
   "source": [
    "## Callbacks\n",
    "\n",
    "A callback is a **task performed at each epoch**. Several callbacks are **predefined**. \n",
    "\n",
    "- ReduceLROnPlateau: reduces the learning rate when learning reaches a plateau\n",
    "- EarlyStopping: stop when a given metric stops progressing\n",
    "- ModelCheckpoint: regular model or weights backup\n",
    "- TensorBoard: for learning visualization with TensorBoard\n",
    "- BackupAndRestore: in case of interruption\n",
    "- LearningRateScheduler: calling a function to calculate the learning rate\n",
    "- RemoteMonitor: sending data to a server  \n",
    "\n",
    "It is also possible to define a **custom callback**. It is derived from the base class *Callback*. \n"
   ]
  },
  {
   "cell_type": "code",
   "execution_count": 6,
   "metadata": {},
   "outputs": [],
   "source": [
    "from keras.callbacks import Callback\n",
    "\n",
    "class GenereImage(Callback):\n",
    "\n",
    "    def __init__(self, model):\n",
    "\n",
    "        self._model = model\n",
    "\n",
    "    def on_epoch_end(self, epoch, logs={}):\n",
    "\n",
    "        n = 2\n",
    "        if epoch % n == n - 1:\n",
    "            print(f\"This is the epoch number {epoch}  of {model.name} model\")"
   ]
  },
  {
   "cell_type": "code",
   "execution_count": 9,
   "metadata": {},
   "outputs": [
    {
     "name": "stdout",
     "output_type": "stream",
     "text": [
      "Epoch 1/20\n",
      "8/8 - 3s - loss: 0.0305 - categorical_accuracy: 0.9917 - val_loss: 0.3080 - val_categorical_accuracy: 0.9000 - lr: 5.0000e-04 - 3s/epoch - 367ms/step\n",
      "Epoch 2/20\n",
      "This is the epoch number 1  of sequential model\n",
      "8/8 - 3s - loss: 0.0204 - categorical_accuracy: 0.9917 - val_loss: 0.2764 - val_categorical_accuracy: 0.9167 - lr: 5.0000e-04 - 3s/epoch - 368ms/step\n",
      "Epoch 3/20\n",
      "8/8 - 3s - loss: 0.0131 - categorical_accuracy: 1.0000 - val_loss: 0.2738 - val_categorical_accuracy: 0.9333 - lr: 5.0000e-04 - 3s/epoch - 342ms/step\n",
      "Epoch 4/20\n",
      "This is the epoch number 3  of sequential model\n",
      "8/8 - 3s - loss: 0.0094 - categorical_accuracy: 1.0000 - val_loss: 0.3111 - val_categorical_accuracy: 0.9333 - lr: 5.0000e-04 - 3s/epoch - 392ms/step\n",
      "Epoch 5/20\n",
      "8/8 - 3s - loss: 0.0059 - categorical_accuracy: 1.0000 - val_loss: 0.3348 - val_categorical_accuracy: 0.9333 - lr: 5.0000e-04 - 3s/epoch - 388ms/step\n",
      "Epoch 6/20\n",
      "This is the epoch number 5  of sequential model\n",
      "8/8 - 3s - loss: 0.0044 - categorical_accuracy: 1.0000 - val_loss: 0.3551 - val_categorical_accuracy: 0.9333 - lr: 5.0000e-04 - 3s/epoch - 380ms/step\n",
      "Epoch 7/20\n",
      "8/8 - 3s - loss: 0.0035 - categorical_accuracy: 1.0000 - val_loss: 0.3609 - val_categorical_accuracy: 0.9333 - lr: 2.5000e-04 - 3s/epoch - 435ms/step\n",
      "Epoch 8/20\n",
      "This is the epoch number 7  of sequential model\n",
      "8/8 - 3s - loss: 0.0032 - categorical_accuracy: 1.0000 - val_loss: 0.3664 - val_categorical_accuracy: 0.9333 - lr: 2.5000e-04 - 3s/epoch - 409ms/step\n",
      "Epoch 9/20\n",
      "8/8 - 3s - loss: 0.0029 - categorical_accuracy: 1.0000 - val_loss: 0.3698 - val_categorical_accuracy: 0.9333 - lr: 2.5000e-04 - 3s/epoch - 356ms/step\n",
      "Epoch 10/20\n",
      "This is the epoch number 9  of sequential model\n",
      "8/8 - 3s - loss: 0.0027 - categorical_accuracy: 1.0000 - val_loss: 0.3709 - val_categorical_accuracy: 0.9333 - lr: 1.2500e-04 - 3s/epoch - 325ms/step\n",
      "Epoch 11/20\n",
      "8/8 - 3s - loss: 0.0026 - categorical_accuracy: 1.0000 - val_loss: 0.3732 - val_categorical_accuracy: 0.9333 - lr: 1.2500e-04 - 3s/epoch - 335ms/step\n",
      "Epoch 12/20\n",
      "This is the epoch number 11  of sequential model\n",
      "8/8 - 3s - loss: 0.0025 - categorical_accuracy: 1.0000 - val_loss: 0.3745 - val_categorical_accuracy: 0.9333 - lr: 1.2500e-04 - 3s/epoch - 331ms/step\n",
      "Epoch 13/20\n",
      "8/8 - 3s - loss: 0.0024 - categorical_accuracy: 1.0000 - val_loss: 0.3761 - val_categorical_accuracy: 0.9333 - lr: 1.0000e-04 - 3s/epoch - 333ms/step\n",
      "Epoch 14/20\n",
      "This is the epoch number 13  of sequential model\n",
      "8/8 - 3s - loss: 0.0023 - categorical_accuracy: 1.0000 - val_loss: 0.3761 - val_categorical_accuracy: 0.9333 - lr: 1.0000e-04 - 3s/epoch - 314ms/step\n",
      "Epoch 15/20\n",
      "8/8 - 3s - loss: 0.0022 - categorical_accuracy: 1.0000 - val_loss: 0.3777 - val_categorical_accuracy: 0.9333 - lr: 1.0000e-04 - 3s/epoch - 326ms/step\n",
      "Epoch 16/20\n",
      "This is the epoch number 15  of sequential model\n",
      "8/8 - 3s - loss: 0.0022 - categorical_accuracy: 1.0000 - val_loss: 0.3795 - val_categorical_accuracy: 0.9333 - lr: 1.0000e-04 - 3s/epoch - 322ms/step\n",
      "Epoch 17/20\n",
      "8/8 - 3s - loss: 0.0021 - categorical_accuracy: 1.0000 - val_loss: 0.3799 - val_categorical_accuracy: 0.9333 - lr: 1.0000e-04 - 3s/epoch - 335ms/step\n",
      "Epoch 18/20\n",
      "This is the epoch number 17  of sequential model\n",
      "8/8 - 3s - loss: 0.0020 - categorical_accuracy: 1.0000 - val_loss: 0.3815 - val_categorical_accuracy: 0.9333 - lr: 1.0000e-04 - 3s/epoch - 317ms/step\n",
      "Epoch 19/20\n",
      "8/8 - 3s - loss: 0.0020 - categorical_accuracy: 1.0000 - val_loss: 0.3829 - val_categorical_accuracy: 0.9333 - lr: 1.0000e-04 - 3s/epoch - 324ms/step\n",
      "Epoch 20/20\n",
      "This is the epoch number 19  of sequential model\n",
      "8/8 - 3s - loss: 0.0019 - categorical_accuracy: 1.0000 - val_loss: 0.3827 - val_categorical_accuracy: 0.9333 - lr: 1.0000e-04 - 3s/epoch - 339ms/step\n"
     ]
    }
   ],
   "source": [
    "from keras.callbacks import ReduceLROnPlateau, TensorBoard\n",
    "\n",
    "# Decrease the learning rate factor\n",
    "reduce_lr_cb = ReduceLROnPlateau(monitor='val_loss', factor=0.5, patience=3, min_lr=0.0001)\n",
    "# Suivi de l'appentissage par Tensorboard\n",
    "tensorboard_cb = TensorBoard(log_dir=\"./logs\")\n",
    "# Callback personnalisé\n",
    "custom_cb = GenereImage(model)\n",
    "\n",
    "cb = [reduce_lr_cb, tensorboard_cb, custom_cb]\n",
    "\n",
    "history = model.fit(input_train, output_train,\n",
    "                    epochs=20,\n",
    "                    validation_split=0.2,\n",
    "                    batch_size=32,\n",
    "                    verbose=2,\n",
    "                    callbacks=cb)"
   ]
  },
  {
   "cell_type": "code",
   "execution_count": 10,
   "metadata": {},
   "outputs": [
    {
     "name": "stdout",
     "output_type": "stream",
     "text": [
      "['loss', 'categorical_accuracy', 'lr'] ['loss', 'categorical_accuracy', 'val_loss', 'val_categorical_accuracy', 'lr']\n"
     ]
    },
    {
     "data": {
      "image/png": "[encoded data removed]",
      "text/plain": [
       "<Figure size 640x480 with 3 Axes>"
      ]
     },
     "metadata": {},
     "output_type": "display_data"
    }
   ],
   "source": [
    "from utils import draw_history\n",
    "\n",
    "draw_history(history)"
   ]
  },
  {
   "cell_type": "code",
   "execution_count": 14,
   "metadata": {},
   "outputs": [],
   "source": [
    "from keras import models\n",
    "model.save('./model_shape.h5')"
   ]
  },
  {
   "cell_type": "markdown",
   "metadata": {},
   "source": [
    "#### Evaluation"
   ]
  },
  {
   "cell_type": "code",
   "execution_count": 11,
   "metadata": {},
   "outputs": [
    {
     "name": "stdout",
     "output_type": "stream",
     "text": [
      "7/7 [==============================] - 1s 97ms/step - loss: 0.5026 - categorical_accuracy: 0.9000\n",
      "Data test : loss 0.503 accuracy 0.900\n"
     ]
    }
   ],
   "source": [
    "# Read test data\n",
    "input_test, output_test = lecture_shape(rep_data + \"test/\", \"*.png\", lst_shape)\n",
    "# Normalize test data\n",
    "input_test = input_test.astype('float32') / 255.\n",
    "# Transform output into one hot encoding\n",
    "output_test = to_categorical(output_test)\n",
    "\n",
    "# Evaluate the model ; the two parameters are the input_test array and the output_test array\n",
    "sum_score = model.evaluate(input_test, output_test)\n",
    "print(\"Data test : loss %.3f accuracy %.3f\" % (sum_score[0], sum_score[1]))"
   ]
  },
  {
   "cell_type": "code",
   "execution_count": 12,
   "metadata": {},
   "outputs": [],
   "source": [
    "# Load the TensorBoard notebook extension\n",
    "%load_ext tensorboard"
   ]
  },
  {
   "cell_type": "code",
   "execution_count": 13,
   "metadata": {},
   "outputs": [
    {
     "data": {
      "text/html": [
       "\n",
       "      <iframe id=\"tensorboard-frame-8586095483421c39\" width=\"100%\" height=\"800\" frameborder=\"0\">\n",
       "      </iframe>\n",
       "      <script>\n",
       "        (function() {\n",
       "          const frame = document.getElementById(\"tensorboard-frame-8586095483421c39\");\n",
       "          const url = new URL(\"/\", window.location);\n",
       "          const port = 6006;\n",
       "          if (port) {\n",
       "            url.port = port;\n",
       "          }\n",
       "          frame.src = url;\n",
       "        })();\n",
       "      </script>\n",
       "    "
      ],
      "text/plain": [
       "<IPython.core.display.HTML object>"
      ]
     },
     "metadata": {},
     "output_type": "display_data"
    }
   ],
   "source": [
    "%tensorboard --logdir logs"
   ]
  },
  {
   "cell_type": "code",
   "execution_count": null,
   "metadata": {},
   "outputs": [],
   "source": []
  }
 ],
 "metadata": {
  "kernelspec": {
   "display_name": "Python 3 (ipykernel)",
   "language": "python",
   "name": "python3"
  },
  "language_info": {
   "codemirror_mode": {
    "name": "ipython",
    "version": 3
   },
   "file_extension": ".py",
   "mimetype": "text/x-python",
   "name": "python",
   "nbconvert_exporter": "python",
   "pygments_lexer": "ipython3",
   "version": "3.10.8"
  }
 },
 "nbformat": 4,
 "nbformat_minor": 4
}
