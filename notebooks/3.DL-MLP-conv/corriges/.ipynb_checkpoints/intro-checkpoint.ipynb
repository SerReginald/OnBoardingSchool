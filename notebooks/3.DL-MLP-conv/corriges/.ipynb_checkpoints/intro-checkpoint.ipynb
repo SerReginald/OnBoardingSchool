{
 "cells": [
  {
   "cell_type": "markdown",
   "id": "4e63b105-fd48-4604-ac72-6feffa930032",
   "metadata": {},
   "source": [
    "# Introduction aux jupyter-notebook\n",
    "### Ceci est du markdown"
   ]
  },
  {
   "cell_type": "code",
   "execution_count": 11,
   "id": "274e936e-398b-4004-aece-a31f4e4d72be",
   "metadata": {},
   "outputs": [],
   "source": [
    "# ceci est du code python\n",
    "\n",
    "import numpy as np\n",
    "\n",
    "x = 10\n",
    "tab = np.arange(5)"
   ]
  },
  {
   "cell_type": "code",
   "execution_count": 16,
   "id": "b7f47fc6-0787-45c5-acd0-8e593f3d47f8",
   "metadata": {},
   "outputs": [
    {
     "data": {
      "text/plain": [
       "'x =10 et tab = [0 1 2 3 4]'"
      ]
     },
     "execution_count": 16,
     "metadata": {},
     "output_type": "execute_result"
    }
   ],
   "source": [
    "f'x ={x} et tab = {tab}'"
   ]
  },
  {
   "cell_type": "markdown",
   "id": "b53b32fd-4e4a-4648-8f36-96db6ee3e7a2",
   "metadata": {},
   "source": [
    "### Opération sur x"
   ]
  },
  {
   "cell_type": "code",
   "execution_count": 17,
   "id": "e3b8b2b1-f651-4621-96cb-cc6986a7495d",
   "metadata": {},
   "outputs": [
    {
     "name": "stdout",
     "output_type": "stream",
     "text": [
      "8\n"
     ]
    }
   ],
   "source": [
    "x = x - 2\n",
    "print(x)"
   ]
  },
  {
   "cell_type": "code",
   "execution_count": null,
   "id": "11ab6407-65fa-4765-b770-8b9fbae51472",
   "metadata": {},
   "outputs": [],
   "source": []
  }
 ],
 "metadata": {
  "kernelspec": {
   "display_name": "Python 3 (ipykernel)",
   "language": "python",
   "name": "python3"
  },
  "language_info": {
   "codemirror_mode": {
    "name": "ipython",
    "version": 3
   },
   "file_extension": ".py",
   "mimetype": "text/x-python",
   "name": "python",
   "nbconvert_exporter": "python",
   "pygments_lexer": "ipython3",
   "version": "3.11.5"
  }
 },
 "nbformat": 4,
 "nbformat_minor": 5
}
