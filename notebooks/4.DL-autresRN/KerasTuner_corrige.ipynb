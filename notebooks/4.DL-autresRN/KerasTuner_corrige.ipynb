{
 "cells": [
  {
   "cell_type": "markdown",
   "metadata": {},
   "source": [
    "# Optimisation des hyperparamètres\n",
    "\n",
    "Nous allons maintenant reprendre l'exemple vu dans le TP sur le perceptron multicouche et essayer de l'optimiser grâce à la bibliothèque keras tuner : https://keras.io/guides/keras_tuner/getting_started/"
   ]
  },
  {
   "cell_type": "markdown",
   "metadata": {},
   "source": [
    "Dans un premier temps on peut récupérer les données du TP"
   ]
  },
  {
   "cell_type": "code",
   "execution_count": 1,
   "metadata": {},
   "outputs": [],
   "source": [
    "import pandas as pd\n",
    "import numpy as np\n",
    "\n",
    "data_read = pd.read_csv('data_cancer.csv')\n",
    "\n",
    "# Copy data in variable data (copy)\n",
    "data = data_read.copy()\n",
    "\n",
    "# Select last column as label (pop)\n",
    "data_labels = data.pop('Classification')\n",
    "\n",
    "# Convert into numpy array and substract 1 to have class 0 and class 1 \n",
    "data_labels = np.array(data_labels) - 1\n",
    "\n",
    "# Convert into numpy array \n",
    "data_features = np.array(data)\n",
    "\n",
    "# Shuffle index\n",
    "ind = np.arange(0, np.shape(data_features)[0])\n",
    "np.random.shuffle(ind)\n",
    "\n",
    "# Apply to data ;\n",
    "data_features = data_features[ind]\n",
    "data_labels = data_labels[ind]\n",
    "\n",
    "# Separate train set and test set\n",
    "# n_train : number of samples for train test\n",
    "n_train = int(np.shape(data_features)[0] * 0.6)\n",
    "n_val = int(np.shape(data_features)[0] * 0.8)\n",
    "\n",
    "x_train, x_val, x_test = data_features[0:n_train], data_features[n_train:n_val], data_features[n_val:]\n",
    "y_train, y_val, y_test = data_labels[0:n_train], data_labels[n_train:n_val], data_labels[n_val:]"
   ]
  },
  {
   "cell_type": "code",
   "execution_count": 2,
   "metadata": {},
   "outputs": [
    {
     "name": "stderr",
     "output_type": "stream",
     "text": [
      "2023-10-11 21:18:17.010257: I tensorflow/core/platform/cpu_feature_guard.cc:182] This TensorFlow binary is optimized to use available CPU instructions in performance-critical operations.\n",
      "To enable the following instructions: AVX2 FMA, in other operations, rebuild TensorFlow with the appropriate compiler flags.\n"
     ]
    }
   ],
   "source": [
    "from keras.models import Sequential\n",
    "from keras.layers import Dense, Normalization"
   ]
  },
  {
   "cell_type": "markdown",
   "metadata": {},
   "source": [
    "On peut maintenant définir une fonction prenant en entrer les hyper-parametres `hp`. On pourra ensuite essayer d'optimiser ces derniers."
   ]
  },
  {
   "cell_type": "code",
   "execution_count": 3,
   "metadata": {},
   "outputs": [],
   "source": [
    "def build_model(hp):\n",
    "    layer_norm = Normalization()\n",
    "    layer_norm.adapt(x_train)\n",
    "\n",
    "    model = Sequential()\n",
    "    # add layers\n",
    "    model.add(layer_norm)\n",
    "    model.add(Dense(hp.Int(\"dense1\", min_value=1, max_value=200), activation='relu', input_dim=np.shape(x_train)[1]))\n",
    "    model.add(Dense(30, activation='relu'))\n",
    "    model.add(Dense(1, activation='sigmoid'))\n",
    "\n",
    "    # Compilation\n",
    "    model.compile(optimizer='sgd', loss='binary_crossentropy', metrics=['accuracy', 'AUC'])\n",
    "    \n",
    "    return model"
   ]
  },
  {
   "cell_type": "markdown",
   "metadata": {},
   "source": [
    "On peut ensuite créé notre modèle avec la fonction build model et l'utiliser pour créer une instance de notre d'optimisateur."
   ]
  },
  {
   "cell_type": "code",
   "execution_count": 4,
   "metadata": {},
   "outputs": [
    {
     "name": "stdout",
     "output_type": "stream",
     "text": [
      "Using TensorFlow backend\n",
      "Model: \"sequential\"\n",
      "_________________________________________________________________\n",
      " Layer (type)                Output Shape              Param #   \n",
      "=================================================================\n",
      " normalization (Normalizatio  (None, 9)                19        \n",
      " n)                                                              \n",
      "                                                                 \n",
      " dense (Dense)               (None, 1)                 10        \n",
      "                                                                 \n",
      " dense_1 (Dense)             (None, 30)                60        \n",
      "                                                                 \n",
      " dense_2 (Dense)             (None, 1)                 31        \n",
      "                                                                 \n",
      "=================================================================\n",
      "Total params: 120\n",
      "Trainable params: 101\n",
      "Non-trainable params: 19\n",
      "_________________________________________________________________\n"
     ]
    }
   ],
   "source": [
    "import keras_tuner\n",
    "\n",
    "model = build_model(keras_tuner.HyperParameters())\n",
    "model.summary()\n",
    "\n",
    "tuner = keras_tuner.BayesianOptimization(\n",
    "    hypermodel=build_model,\n",
    "    objective=\"val_accuracy\", \n",
    "    max_trials=50,\n",
    "    executions_per_trial=2,\n",
    "    overwrite=True,\n",
    ")"
   ]
  },
  {
   "cell_type": "markdown",
   "metadata": {},
   "source": [
    "On peut finalement exécuter l'optimisation sur nos données d'optimisation. À cette étape on doit également choisir le nombre d'epochs utilisé à chaque étape de l'optimisation. Les meilleurs modèles peuvent être récupérés avec `get_best_models`."
   ]
  },
  {
   "cell_type": "code",
   "execution_count": 5,
   "metadata": {},
   "outputs": [
    {
     "name": "stdout",
     "output_type": "stream",
     "text": [
      "Trial 50 Complete [00h 00m 03s]\n",
      "val_accuracy: 0.679999977350235\n",
      "\n",
      "Best val_accuracy So Far: 0.7299999892711639\n",
      "Total elapsed time: 00h 02m 26s\n"
     ]
    },
    {
     "ename": "AttributeError",
     "evalue": "'Sequential' object has no attribute 'kiwi'",
     "output_type": "error",
     "traceback": [
      "\u001b[0;31m---------------------------------------------------------------------------\u001b[0m",
      "\u001b[0;31mAttributeError\u001b[0m                            Traceback (most recent call last)",
      "Cell \u001b[0;32mIn[5], line 5\u001b[0m\n\u001b[1;32m      3\u001b[0m models \u001b[38;5;241m=\u001b[39m tuner\u001b[38;5;241m.\u001b[39mget_best_models(num_models\u001b[38;5;241m=\u001b[39m\u001b[38;5;241m2\u001b[39m)\n\u001b[1;32m      4\u001b[0m best_model \u001b[38;5;241m=\u001b[39m models[\u001b[38;5;241m0\u001b[39m]\n\u001b[0;32m----> 5\u001b[0m \u001b[43mbest_model\u001b[49m\u001b[38;5;241;43m.\u001b[39;49m\u001b[43mkiwi\u001b[49m()\n\u001b[1;32m      6\u001b[0m best_model\u001b[38;5;241m.\u001b[39msummary()\n",
      "\u001b[0;31mAttributeError\u001b[0m: 'Sequential' object has no attribute 'kiwi'"
     ]
    }
   ],
   "source": [
    "tuner.search(x_train, y_train, epochs=10, validation_data=(x_val, y_val))\n",
    "\n",
    "models = tuner.get_best_models(num_models=2)\n",
    "best_model = models[0]\n",
    "\n",
    "best_model.summary()"
   ]
  },
  {
   "cell_type": "markdown",
   "metadata": {},
   "source": [
    "Une fois le meilleur modèle récupéré il peut être entrainé comme ont l'a vu dans le TP précédent."
   ]
  },
  {
   "cell_type": "code",
   "execution_count": null,
   "metadata": {},
   "outputs": [],
   "source": [
    "from utils import draw_history\n",
    "\n",
    "# Learning step\n",
    "history = best_model.fit(x_train, y_train,\n",
    "          epochs=50,            # nb of epochs\n",
    "          validation_split=0.2) # % of data used for the validation\n",
    "\n",
    "\n",
    "draw_history(history)\n",
    "\n",
    "score = best_model.evaluate(x_test, y_test)\n",
    "print(\"The cost function on the test set is %.3f. The rate of correct prediction is %.2f\"%(score[0], score[1]))\n",
    "\n",
    "\n",
    "output_predict = best_model.predict(x_test)\n",
    "for sample_predict, sample_true in zip(output_predict[0:5], y_test[0:5]):\n",
    "    print(sample_predict, sample_true)\n"
   ]
  },
  {
   "cell_type": "markdown",
   "metadata": {},
   "source": [
    "Lorsque l'on crée un modèle avec des hyperparamètres 4 type de paramètres peuvent être utilisé : \n",
    "\n",
    "- Des entiers : `hp.Int(name, min, max)`\n",
    "\n",
    "- Un choix parmis une liste : `hp.Choice(name, [liste])`\n",
    "\n",
    "- Un bouléen : `hp.Boolean(name)`\n",
    "\n",
    "- Un nombre floatant : `hp.Float(name, min max)`\n",
    "\n",
    "Avec ces informations essayait d'optimiser votre réseau : \n",
    "\n",
    "- Quel est le nombre optimal de couches ?\n",
    "- L'ajout de Dropout est-il utile ?\n",
    "- Quels sont les meilleurs fonction d'activation pour nos couches ?"
   ]
  },
  {
   "cell_type": "code",
   "execution_count": null,
   "metadata": {},
   "outputs": [],
   "source": [
    "from keras import layers\n",
    "\n",
    "def build_better_model(hp):\n",
    "    layer_norm = Normalization()\n",
    "    layer_norm.adapt(x_train)\n",
    "\n",
    "    model = Sequential()\n",
    "    # add layers\n",
    "    model.add(layer_norm)\n",
    "    for i in range(hp.Int(\"num_layers\", 1, 10)):\n",
    "        model.add(Dense(hp.Int(f\"num_units_{i}\", min_value=1, max_value=200), activation=hp.Choice(f\"activation_{i}\", [\"relu\", \"tanh\"])))\n",
    "        if hp.Boolean(f\"dropout_{i}\"):\n",
    "            model.add(layers.Dropout(rate=0.25))\n",
    "\n",
    "    model.add(Dense(1, activation='sigmoid'))\n",
    "\n",
    "    # Compilation\n",
    "    model.compile(optimizer='sgd', loss='binary_crossentropy', metrics=['accuracy', 'AUC'])\n",
    "\n",
    "    # Check the model\n",
    "    model.summary()\n",
    "    \n",
    "    return model"
   ]
  },
  {
   "cell_type": "code",
   "execution_count": null,
   "metadata": {},
   "outputs": [],
   "source": [
    "import keras_tuner\n",
    "\n",
    "model = build_better_model(keras_tuner.HyperParameters())\n",
    "model.summary()\n",
    "tuner = keras_tuner.BayesianOptimization(\n",
    "    hypermodel=build_better_model,\n",
    "    objective=\"val_accuracy\", \n",
    "    max_trials=50,\n",
    "    executions_per_trial=2,\n",
    "    overwrite=True,\n",
    ")"
   ]
  },
  {
   "cell_type": "code",
   "execution_count": null,
   "metadata": {},
   "outputs": [],
   "source": [
    "tuner.search(x_train, y_train, epochs=10, validation_data=(x_val, y_val))\n",
    "\n",
    "models = tuner.get_best_models(num_models=2)\n",
    "best_model = models[0]\n",
    "best_model.summary()"
   ]
  },
  {
   "cell_type": "code",
   "execution_count": null,
   "metadata": {},
   "outputs": [],
   "source": [
    "from utils import draw_history\n",
    "\n",
    "# Learning step\n",
    "history = best_model.fit(x_train, y_train,\n",
    "          epochs=50,            # nb of epochs\n",
    "          validation_split=0.2) # % of data used for the validation\n",
    "\n",
    "\n",
    "draw_history(history)\n",
    "\n",
    "score = best_model.evaluate(x_test, y_test)\n",
    "print(\"The cost function on the test set is %.3f. The rate of correct prediction is %.2f\"%(score[0], score[1]))\n",
    "\n",
    "\n",
    "output_predict = best_model.predict(x_test)\n",
    "for sample_predict, sample_true in zip(output_predict[0:5], y_test[0:5]):\n",
    "    print(sample_predict, sample_true)"
   ]
  }
 ],
 "metadata": {
  "kernelspec": {
   "display_name": "Python 3 (ipykernel)",
   "language": "python",
   "name": "python3"
  },
  "language_info": {
   "codemirror_mode": {
    "name": "ipython",
    "version": 3
   },
   "file_extension": ".py",
   "mimetype": "text/x-python",
   "name": "python",
   "nbconvert_exporter": "python",
   "pygments_lexer": "ipython3",
   "version": "3.11.2"
  }
 },
 "nbformat": 4,
 "nbformat_minor": 4
}
