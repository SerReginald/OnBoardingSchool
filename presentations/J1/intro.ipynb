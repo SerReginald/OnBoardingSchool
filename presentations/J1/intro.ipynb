{
 "cells": [
  {
   "cell_type": "markdown",
   "id": "4e63b105-fd48-4604-ac72-6feffa930032",
   "metadata": {},
   "source": [
    "# Introduction aux jupyter-notebook\n",
    "### Ceci est du markdown"
   ]
  },
  {
   "cell_type": "code",
   "execution_count": null,
   "id": "274e936e-398b-4004-aece-a31f4e4d72be",
   "metadata": {},
   "outputs": [],
   "source": [
    "# ceci est du code python\n",
    "\n",
    "import numpy as np\n",
    "\n",
    "tab = np.arange(5)\n",
    "f'tab = {tab}'"
   ]
  },
  {
   "cell_type": "code",
   "execution_count": null,
   "id": "54d7c1b5-9fbb-4eed-8b31-9355e764f20c",
   "metadata": {},
   "outputs": [],
   "source": [
    "x = 10\n",
    "print(x)"
   ]
  },
  {
   "cell_type": "markdown",
   "id": "c1c3cf81-8fe0-4209-bc85-2c2c145ce76f",
   "metadata": {},
   "source": [
    "On peut exécuter à nouveau à partir de n'importe quelle cellule, mais attention aux valeurs en mémoire.  \n",
    "Illustration :"
   ]
  },
  {
   "cell_type": "code",
   "execution_count": null,
   "id": "e3b8b2b1-f651-4621-96cb-cc6986a7495d",
   "metadata": {},
   "outputs": [],
   "source": [
    "x = x - 3\n",
    "print(x)"
   ]
  },
  {
   "cell_type": "code",
   "execution_count": null,
   "id": "11ab6407-65fa-4765-b770-8b9fbae51472",
   "metadata": {},
   "outputs": [],
   "source": []
  }
 ],
 "metadata": {
  "kernelspec": {
   "display_name": "Python 3 (ipykernel)",
   "language": "python",
   "name": "python3"
  },
  "language_info": {
   "codemirror_mode": {
    "name": "ipython",
    "version": 3
   },
   "file_extension": ".py",
   "mimetype": "text/x-python",
   "name": "python",
   "nbconvert_exporter": "python",
   "pygments_lexer": "ipython3",
   "version": "3.11.5"
  }
 },
 "nbformat": 4,
 "nbformat_minor": 5
}
